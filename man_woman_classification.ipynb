{
  "nbformat": 4,
  "nbformat_minor": 0,
  "metadata": {
    "colab": {
      "name": "man_woman_classification.ipynb",
      "provenance": [],
      "collapsed_sections": [],
      "toc_visible": true
    },
    "kernelspec": {
      "name": "python3",
      "display_name": "Python 3"
    },
    "accelerator": "GPU"
  },
  "cells": [
    {
      "cell_type": "markdown",
      "metadata": {
        "id": "8wihReK5OXUi"
      },
      "source": [
        "#GROUP 7: Members\n",
        "\n",
        "###Patrice GADEGBE\n",
        "###Kemoko KEITA\n",
        " "
      ]
    },
    {
      "cell_type": "code",
      "metadata": {
        "id": "gSsdJrU7REc5",
        "outputId": "2ef7b223-71a7-4d40-f817-027a985c550f",
        "colab": {
          "base_uri": "https://localhost:8080/"
        }
      },
      "source": [
        "from google.colab import drive\n",
        "drive.mount('/content/drive', force_remount=True)"
      ],
      "execution_count": null,
      "outputs": [
        {
          "output_type": "stream",
          "text": [
            "Mounted at /content/drive\n"
          ],
          "name": "stdout"
        }
      ]
    },
    {
      "cell_type": "markdown",
      "metadata": {
        "id": "QbnIdwujqoTk"
      },
      "source": [
        "# Load datas"
      ]
    },
    {
      "cell_type": "code",
      "metadata": {
        "id": "bZwU-ezZosVI",
        "outputId": "4e85a27f-12bd-4d1b-962a-c6d3b3f075b0",
        "colab": {
          "base_uri": "https://localhost:8080/"
        }
      },
      "source": [
        "from keras.preprocessing.image import ImageDataGenerator\n",
        "\n",
        "shuffle_data = True\n",
        "batch = 16\n",
        "# create a new generator\n",
        "imagegen = ImageDataGenerator()\n",
        "# load train data\n",
        "train = imagegen.flow_from_directory(\"drive/My Drive/images/train/\", class_mode=\"binary\", shuffle=shuffle_data, batch_size=batch, target_size=(224, 224))\n",
        "# load val data\n",
        "val = imagegen.flow_from_directory(\"drive/My Drive/images/validation/\", class_mode=\"binary\", shuffle=shuffle_data, batch_size=batch, target_size=(224, 224))\n"
      ],
      "execution_count": null,
      "outputs": [
        {
          "output_type": "stream",
          "text": [
            "Found 206 images belonging to 2 classes.\n",
            "Found 206 images belonging to 2 classes.\n"
          ],
          "name": "stdout"
        }
      ]
    },
    {
      "cell_type": "markdown",
      "metadata": {
        "id": "DhT5cF13qj59"
      },
      "source": [
        "# Imports"
      ]
    },
    {
      "cell_type": "code",
      "metadata": {
        "id": "eodZIbwSUP7Z"
      },
      "source": [
        "from keras.models import Sequential\n",
        "from keras.layers import Conv2D, MaxPool2D, Flatten, Dense, InputLayer, BatchNormalization, Dropout, Activation\n",
        "from keras.optimizers import RMSprop\n",
        "from keras.applications import VGG16\n",
        "from keras.utils import to_categorical"
      ],
      "execution_count": null,
      "outputs": []
    },
    {
      "cell_type": "markdown",
      "metadata": {
        "id": "Woz9812lqU6K"
      },
      "source": [
        "# Network V1"
      ]
    },
    {
      "cell_type": "code",
      "metadata": {
        "id": "MPFL9rxeqawm",
        "outputId": "8c27e7f9-c764-4085-d353-825563a08d39",
        "colab": {
          "base_uri": "https://localhost:8080/"
        }
      },
      "source": [
        "optimizer = 'adam'\n",
        "objective = 'binary_crossentropy'\n",
        "\n",
        "# build a sequential model\n",
        "model_v1 = Sequential()\n",
        "model_v1.add(InputLayer(input_shape=(224, 224, 3)))\n",
        "\n",
        "# 1st conv block\n",
        "model_v1.add(Conv2D(25, (5, 5), activation='relu', strides=(1, 1), padding='same'))\n",
        "model_v1.add(MaxPool2D(pool_size=(2, 2), padding='same'))\n",
        "model_v1.add(Dropout(0.25))\n",
        "# 2nd conv block\n",
        "model_v1.add(Conv2D(50, (5, 5), activation='relu', strides=(2, 2), padding='same'))\n",
        "model_v1.add(MaxPool2D(pool_size=(2, 2), padding='same'))\n",
        "model_v1.add(BatchNormalization())\n",
        "model_v1.add(Dropout(0.25))\n",
        "# 3rd conv block\n",
        "model_v1.add(Conv2D(70, (3, 3), activation='relu', strides=(2, 2), padding='same'))\n",
        "model_v1.add(MaxPool2D(pool_size=(2, 2), padding='valid'))\n",
        "model_v1.add(BatchNormalization())\n",
        "model_v1.add(Dropout(0.25))\n",
        "# ANN block\n",
        "model_v1.add(Flatten())\n",
        "model_v1.add(Dense(units=100, activation='relu'))\n",
        "model_v1.add(Dense(units=100, activation='relu'))\n",
        "model_v1.add(Dropout(0.25))\n",
        "# output layer\n",
        "model_v1.add(Dense(units=1, activation='sigmoid'))\n",
        "\n",
        "model_v1.summary()\n",
        "\n",
        "# compile model\n",
        "model_v1.compile(loss=objective, optimizer=optimizer, metrics=['accuracy'])\n",
        "# fit on data for 30 epochs\n",
        "model_v1.fit(train, epochs=30, batch_size=128, validation_data=val)"
      ],
      "execution_count": null,
      "outputs": [
        {
          "output_type": "stream",
          "text": [
            "Model: \"sequential\"\n",
            "_________________________________________________________________\n",
            "Layer (type)                 Output Shape              Param #   \n",
            "=================================================================\n",
            "conv2d (Conv2D)              (None, 224, 224, 25)      1900      \n",
            "_________________________________________________________________\n",
            "max_pooling2d (MaxPooling2D) (None, 112, 112, 25)      0         \n",
            "_________________________________________________________________\n",
            "dropout (Dropout)            (None, 112, 112, 25)      0         \n",
            "_________________________________________________________________\n",
            "conv2d_1 (Conv2D)            (None, 56, 56, 50)        31300     \n",
            "_________________________________________________________________\n",
            "max_pooling2d_1 (MaxPooling2 (None, 28, 28, 50)        0         \n",
            "_________________________________________________________________\n",
            "batch_normalization (BatchNo (None, 28, 28, 50)        200       \n",
            "_________________________________________________________________\n",
            "dropout_1 (Dropout)          (None, 28, 28, 50)        0         \n",
            "_________________________________________________________________\n",
            "conv2d_2 (Conv2D)            (None, 14, 14, 70)        31570     \n",
            "_________________________________________________________________\n",
            "max_pooling2d_2 (MaxPooling2 (None, 7, 7, 70)          0         \n",
            "_________________________________________________________________\n",
            "batch_normalization_1 (Batch (None, 7, 7, 70)          280       \n",
            "_________________________________________________________________\n",
            "dropout_2 (Dropout)          (None, 7, 7, 70)          0         \n",
            "_________________________________________________________________\n",
            "flatten (Flatten)            (None, 3430)              0         \n",
            "_________________________________________________________________\n",
            "dense (Dense)                (None, 100)               343100    \n",
            "_________________________________________________________________\n",
            "dense_1 (Dense)              (None, 100)               10100     \n",
            "_________________________________________________________________\n",
            "dropout_3 (Dropout)          (None, 100)               0         \n",
            "_________________________________________________________________\n",
            "dense_2 (Dense)              (None, 1)                 101       \n",
            "=================================================================\n",
            "Total params: 418,551\n",
            "Trainable params: 418,311\n",
            "Non-trainable params: 240\n",
            "_________________________________________________________________\n",
            "Epoch 1/30\n",
            "13/13 [==============================] - 1s 94ms/step - loss: 0.7742 - accuracy: 0.5534 - val_loss: 4.5195 - val_accuracy: 0.5097\n",
            "Epoch 2/30\n",
            "13/13 [==============================] - 1s 76ms/step - loss: 0.5358 - accuracy: 0.7330 - val_loss: 3.9442 - val_accuracy: 0.5000\n",
            "Epoch 3/30\n",
            "13/13 [==============================] - 1s 78ms/step - loss: 0.4350 - accuracy: 0.7816 - val_loss: 1.2280 - val_accuracy: 0.6602\n",
            "Epoch 4/30\n",
            "13/13 [==============================] - 1s 74ms/step - loss: 0.4229 - accuracy: 0.8010 - val_loss: 1.2559 - val_accuracy: 0.6650\n",
            "Epoch 5/30\n",
            "13/13 [==============================] - 1s 79ms/step - loss: 0.3410 - accuracy: 0.8155 - val_loss: 0.7494 - val_accuracy: 0.7282\n",
            "Epoch 6/30\n",
            "13/13 [==============================] - 1s 78ms/step - loss: 0.2775 - accuracy: 0.8786 - val_loss: 0.7061 - val_accuracy: 0.7282\n",
            "Epoch 7/30\n",
            "13/13 [==============================] - 1s 80ms/step - loss: 0.2404 - accuracy: 0.9029 - val_loss: 0.5851 - val_accuracy: 0.7573\n",
            "Epoch 8/30\n",
            "13/13 [==============================] - 1s 74ms/step - loss: 0.1607 - accuracy: 0.9369 - val_loss: 0.5316 - val_accuracy: 0.7864\n",
            "Epoch 9/30\n",
            "13/13 [==============================] - 1s 80ms/step - loss: 0.1910 - accuracy: 0.9223 - val_loss: 0.5312 - val_accuracy: 0.8058\n",
            "Epoch 10/30\n",
            "13/13 [==============================] - 1s 80ms/step - loss: 0.1107 - accuracy: 0.9612 - val_loss: 0.5463 - val_accuracy: 0.7816\n",
            "Epoch 11/30\n",
            "13/13 [==============================] - 1s 75ms/step - loss: 0.1237 - accuracy: 0.9515 - val_loss: 0.4646 - val_accuracy: 0.8398\n",
            "Epoch 12/30\n",
            "13/13 [==============================] - 1s 74ms/step - loss: 0.1022 - accuracy: 0.9466 - val_loss: 0.4889 - val_accuracy: 0.8010\n",
            "Epoch 13/30\n",
            "13/13 [==============================] - 1s 76ms/step - loss: 0.0945 - accuracy: 0.9660 - val_loss: 0.5470 - val_accuracy: 0.7767\n",
            "Epoch 14/30\n",
            "13/13 [==============================] - 1s 78ms/step - loss: 0.0801 - accuracy: 0.9806 - val_loss: 0.5496 - val_accuracy: 0.7767\n",
            "Epoch 15/30\n",
            "13/13 [==============================] - 1s 75ms/step - loss: 0.0533 - accuracy: 0.9854 - val_loss: 0.5619 - val_accuracy: 0.8058\n",
            "Epoch 16/30\n",
            "13/13 [==============================] - 1s 77ms/step - loss: 0.0724 - accuracy: 0.9709 - val_loss: 0.5808 - val_accuracy: 0.7864\n",
            "Epoch 17/30\n",
            "13/13 [==============================] - 1s 78ms/step - loss: 0.0222 - accuracy: 1.0000 - val_loss: 0.6780 - val_accuracy: 0.7718\n",
            "Epoch 18/30\n",
            "13/13 [==============================] - 1s 77ms/step - loss: 0.0299 - accuracy: 0.9951 - val_loss: 0.7257 - val_accuracy: 0.7427\n",
            "Epoch 19/30\n",
            "13/13 [==============================] - 1s 76ms/step - loss: 0.0238 - accuracy: 0.9903 - val_loss: 0.5583 - val_accuracy: 0.8010\n",
            "Epoch 20/30\n",
            "13/13 [==============================] - 1s 76ms/step - loss: 0.0143 - accuracy: 1.0000 - val_loss: 0.6268 - val_accuracy: 0.8058\n",
            "Epoch 21/30\n",
            "13/13 [==============================] - 1s 76ms/step - loss: 0.0292 - accuracy: 0.9903 - val_loss: 0.8715 - val_accuracy: 0.7379\n",
            "Epoch 22/30\n",
            "13/13 [==============================] - 1s 75ms/step - loss: 0.0087 - accuracy: 1.0000 - val_loss: 0.6422 - val_accuracy: 0.7913\n",
            "Epoch 23/30\n",
            "13/13 [==============================] - 1s 75ms/step - loss: 0.0086 - accuracy: 1.0000 - val_loss: 0.6820 - val_accuracy: 0.7816\n",
            "Epoch 24/30\n",
            "13/13 [==============================] - 1s 75ms/step - loss: 0.0083 - accuracy: 1.0000 - val_loss: 0.6703 - val_accuracy: 0.8058\n",
            "Epoch 25/30\n",
            "13/13 [==============================] - 1s 74ms/step - loss: 0.0132 - accuracy: 1.0000 - val_loss: 0.6350 - val_accuracy: 0.7913\n",
            "Epoch 26/30\n",
            "13/13 [==============================] - 1s 76ms/step - loss: 0.0153 - accuracy: 0.9951 - val_loss: 0.8732 - val_accuracy: 0.7524\n",
            "Epoch 27/30\n",
            "13/13 [==============================] - 1s 75ms/step - loss: 0.0233 - accuracy: 0.9854 - val_loss: 0.8485 - val_accuracy: 0.7379\n",
            "Epoch 28/30\n",
            "13/13 [==============================] - 1s 76ms/step - loss: 0.0244 - accuracy: 0.9903 - val_loss: 0.8929 - val_accuracy: 0.7427\n",
            "Epoch 29/30\n",
            "13/13 [==============================] - 1s 76ms/step - loss: 0.0097 - accuracy: 0.9951 - val_loss: 0.8041 - val_accuracy: 0.7573\n",
            "Epoch 30/30\n",
            "13/13 [==============================] - 1s 75ms/step - loss: 0.0169 - accuracy: 0.9903 - val_loss: 0.7760 - val_accuracy: 0.7524\n"
          ],
          "name": "stdout"
        },
        {
          "output_type": "execute_result",
          "data": {
            "text/plain": [
              "<tensorflow.python.keras.callbacks.History at 0x7f662a5a7eb8>"
            ]
          },
          "metadata": {
            "tags": []
          },
          "execution_count": 4
        }
      ]
    },
    {
      "cell_type": "markdown",
      "metadata": {
        "id": "GOHIAIAyqcow"
      },
      "source": [
        "# Network v2\n",
        "same network but a differente output layer"
      ]
    },
    {
      "cell_type": "code",
      "metadata": {
        "id": "xKQbM13zqgMn",
        "outputId": "9d5f7bda-878e-4e57-b9ff-55fef3c02f53",
        "colab": {
          "base_uri": "https://localhost:8080/"
        }
      },
      "source": [
        "optimizer = RMSprop(lr=1e-4)\n",
        "objective = 'binary_crossentropy'\n",
        "    \n",
        "# build a sequential model\n",
        "model_v2 = Sequential()\n",
        "model_v2.add(InputLayer(input_shape=(224, 224, 3)))\n",
        "\n",
        "# 1st conv block\n",
        "model_v2.add(Conv2D(25, (5, 5), activation='relu', strides=(1, 1), padding='same'))\n",
        "model_v2.add(MaxPool2D(pool_size=(2, 2), padding='same'))\n",
        "model_v2.add(Dropout(0.25))\n",
        "# 2nd conv block\n",
        "model_v2.add(Conv2D(50, (5, 5), activation='relu', strides=(2, 2), padding='same'))\n",
        "model_v2.add(MaxPool2D(pool_size=(2, 2), padding='same'))\n",
        "model_v2.add(BatchNormalization())\n",
        "model_v2.add(Dropout(0.25))\n",
        "# 3rd conv block\n",
        "model_v2.add(Conv2D(70, (3, 3), activation='relu', strides=(2, 2), padding='same'))\n",
        "model_v2.add(MaxPool2D(pool_size=(2, 2), padding='valid'))\n",
        "model_v2.add(BatchNormalization())\n",
        "model_v2.add(Dropout(0.25))\n",
        "# ANN block\n",
        "model_v2.add(Flatten())\n",
        "model_v2.add(Dense(units=100, activation='relu'))\n",
        "model_v2.add(Dense(units=100, activation='relu'))\n",
        "model_v2.add(Dropout(0.25))\n",
        "# output layer\n",
        "model_v2.add(Dense(units=1, activation='sigmoid'))\n",
        "\n",
        "model_v2.summary()\n",
        "\n",
        "# compile model\n",
        "model_v2.compile(loss=objective, optimizer=optimizer, metrics=['accuracy'])\n",
        "# fit on data for 30 epochs\n",
        "model_v2.fit(train, epochs=30, validation_data=val)"
      ],
      "execution_count": null,
      "outputs": [
        {
          "output_type": "stream",
          "text": [
            "Model: \"sequential_1\"\n",
            "_________________________________________________________________\n",
            "Layer (type)                 Output Shape              Param #   \n",
            "=================================================================\n",
            "conv2d_3 (Conv2D)            (None, 224, 224, 25)      1900      \n",
            "_________________________________________________________________\n",
            "max_pooling2d_3 (MaxPooling2 (None, 112, 112, 25)      0         \n",
            "_________________________________________________________________\n",
            "dropout_4 (Dropout)          (None, 112, 112, 25)      0         \n",
            "_________________________________________________________________\n",
            "conv2d_4 (Conv2D)            (None, 56, 56, 50)        31300     \n",
            "_________________________________________________________________\n",
            "max_pooling2d_4 (MaxPooling2 (None, 28, 28, 50)        0         \n",
            "_________________________________________________________________\n",
            "batch_normalization_2 (Batch (None, 28, 28, 50)        200       \n",
            "_________________________________________________________________\n",
            "dropout_5 (Dropout)          (None, 28, 28, 50)        0         \n",
            "_________________________________________________________________\n",
            "conv2d_5 (Conv2D)            (None, 14, 14, 70)        31570     \n",
            "_________________________________________________________________\n",
            "max_pooling2d_5 (MaxPooling2 (None, 7, 7, 70)          0         \n",
            "_________________________________________________________________\n",
            "batch_normalization_3 (Batch (None, 7, 7, 70)          280       \n",
            "_________________________________________________________________\n",
            "dropout_6 (Dropout)          (None, 7, 7, 70)          0         \n",
            "_________________________________________________________________\n",
            "flatten_1 (Flatten)          (None, 3430)              0         \n",
            "_________________________________________________________________\n",
            "dense_3 (Dense)              (None, 100)               343100    \n",
            "_________________________________________________________________\n",
            "dense_4 (Dense)              (None, 100)               10100     \n",
            "_________________________________________________________________\n",
            "dropout_7 (Dropout)          (None, 100)               0         \n",
            "_________________________________________________________________\n",
            "dense_5 (Dense)              (None, 1)                 101       \n",
            "=================================================================\n",
            "Total params: 418,551\n",
            "Trainable params: 418,311\n",
            "Non-trainable params: 240\n",
            "_________________________________________________________________\n",
            "Epoch 1/30\n",
            "13/13 [==============================] - 1s 88ms/step - loss: 0.8252 - accuracy: 0.4709 - val_loss: 0.6591 - val_accuracy: 0.5825\n",
            "Epoch 2/30\n",
            "13/13 [==============================] - 1s 76ms/step - loss: 0.6437 - accuracy: 0.5874 - val_loss: 0.6627 - val_accuracy: 0.5922\n",
            "Epoch 3/30\n",
            "13/13 [==============================] - 1s 75ms/step - loss: 0.6904 - accuracy: 0.5922 - val_loss: 0.6485 - val_accuracy: 0.6262\n",
            "Epoch 4/30\n",
            "13/13 [==============================] - 1s 81ms/step - loss: 0.5596 - accuracy: 0.7039 - val_loss: 0.5947 - val_accuracy: 0.7233\n",
            "Epoch 5/30\n",
            "13/13 [==============================] - 1s 79ms/step - loss: 0.5536 - accuracy: 0.7136 - val_loss: 0.5760 - val_accuracy: 0.7379\n",
            "Epoch 6/30\n",
            "13/13 [==============================] - 1s 79ms/step - loss: 0.5179 - accuracy: 0.7524 - val_loss: 0.5725 - val_accuracy: 0.7330\n",
            "Epoch 7/30\n",
            "13/13 [==============================] - 1s 76ms/step - loss: 0.4903 - accuracy: 0.7184 - val_loss: 0.5614 - val_accuracy: 0.7427\n",
            "Epoch 8/30\n",
            "13/13 [==============================] - 1s 79ms/step - loss: 0.4609 - accuracy: 0.7864 - val_loss: 0.5604 - val_accuracy: 0.7524\n",
            "Epoch 9/30\n",
            "13/13 [==============================] - 1s 76ms/step - loss: 0.4376 - accuracy: 0.7670 - val_loss: 0.5633 - val_accuracy: 0.6990\n",
            "Epoch 10/30\n",
            "13/13 [==============================] - 1s 81ms/step - loss: 0.4091 - accuracy: 0.8010 - val_loss: 0.5590 - val_accuracy: 0.7427\n",
            "Epoch 11/30\n",
            "13/13 [==============================] - 1s 82ms/step - loss: 0.3945 - accuracy: 0.8204 - val_loss: 0.5494 - val_accuracy: 0.7427\n",
            "Epoch 12/30\n",
            "13/13 [==============================] - 1s 77ms/step - loss: 0.3962 - accuracy: 0.8010 - val_loss: 0.5445 - val_accuracy: 0.7476\n",
            "Epoch 13/30\n",
            "13/13 [==============================] - 1s 76ms/step - loss: 0.3834 - accuracy: 0.8252 - val_loss: 0.5288 - val_accuracy: 0.7621\n",
            "Epoch 14/30\n",
            "13/13 [==============================] - 1s 77ms/step - loss: 0.3867 - accuracy: 0.8301 - val_loss: 0.5343 - val_accuracy: 0.7670\n",
            "Epoch 15/30\n",
            "13/13 [==============================] - 1s 81ms/step - loss: 0.2914 - accuracy: 0.8689 - val_loss: 0.5221 - val_accuracy: 0.7864\n",
            "Epoch 16/30\n",
            "13/13 [==============================] - 1s 78ms/step - loss: 0.3572 - accuracy: 0.8398 - val_loss: 0.5210 - val_accuracy: 0.7670\n",
            "Epoch 17/30\n",
            "13/13 [==============================] - 1s 78ms/step - loss: 0.3123 - accuracy: 0.8544 - val_loss: 0.5063 - val_accuracy: 0.7767\n",
            "Epoch 18/30\n",
            "13/13 [==============================] - 1s 77ms/step - loss: 0.2667 - accuracy: 0.8932 - val_loss: 0.5134 - val_accuracy: 0.7670\n",
            "Epoch 19/30\n",
            "13/13 [==============================] - 1s 80ms/step - loss: 0.2604 - accuracy: 0.9029 - val_loss: 0.4913 - val_accuracy: 0.8010\n",
            "Epoch 20/30\n",
            "13/13 [==============================] - 1s 77ms/step - loss: 0.2835 - accuracy: 0.8738 - val_loss: 0.4945 - val_accuracy: 0.7816\n",
            "Epoch 21/30\n",
            "13/13 [==============================] - 1s 76ms/step - loss: 0.2507 - accuracy: 0.8883 - val_loss: 0.4820 - val_accuracy: 0.7718\n",
            "Epoch 22/30\n",
            "13/13 [==============================] - 1s 78ms/step - loss: 0.2427 - accuracy: 0.8932 - val_loss: 0.4727 - val_accuracy: 0.7961\n",
            "Epoch 23/30\n",
            "13/13 [==============================] - 1s 80ms/step - loss: 0.2297 - accuracy: 0.9029 - val_loss: 0.4744 - val_accuracy: 0.7816\n",
            "Epoch 24/30\n",
            "13/13 [==============================] - 1s 78ms/step - loss: 0.2234 - accuracy: 0.8981 - val_loss: 0.4767 - val_accuracy: 0.7816\n",
            "Epoch 25/30\n",
            "13/13 [==============================] - 1s 80ms/step - loss: 0.2326 - accuracy: 0.9126 - val_loss: 0.4871 - val_accuracy: 0.7670\n",
            "Epoch 26/30\n",
            "13/13 [==============================] - 1s 77ms/step - loss: 0.2100 - accuracy: 0.9126 - val_loss: 0.4813 - val_accuracy: 0.7864\n",
            "Epoch 27/30\n",
            "13/13 [==============================] - 1s 75ms/step - loss: 0.2079 - accuracy: 0.9029 - val_loss: 0.4751 - val_accuracy: 0.7767\n",
            "Epoch 28/30\n",
            "13/13 [==============================] - 1s 77ms/step - loss: 0.1505 - accuracy: 0.9515 - val_loss: 0.4769 - val_accuracy: 0.7961\n",
            "Epoch 29/30\n",
            "13/13 [==============================] - 1s 75ms/step - loss: 0.1761 - accuracy: 0.9369 - val_loss: 0.5101 - val_accuracy: 0.7330\n",
            "Epoch 30/30\n",
            "13/13 [==============================] - 1s 77ms/step - loss: 0.1926 - accuracy: 0.9320 - val_loss: 0.4971 - val_accuracy: 0.7379\n"
          ],
          "name": "stdout"
        },
        {
          "output_type": "execute_result",
          "data": {
            "text/plain": [
              "<tensorflow.python.keras.callbacks.History at 0x7f65ce3c1048>"
            ]
          },
          "metadata": {
            "tags": []
          },
          "execution_count": 5
        }
      ]
    },
    {
      "cell_type": "markdown",
      "metadata": {
        "id": "E91-ASWKfuFH"
      },
      "source": [
        "# Network v3"
      ]
    },
    {
      "cell_type": "code",
      "metadata": {
        "id": "MtbuV4Hqi-9T",
        "outputId": "541f0a0d-3b45-4018-a919-de7dcaf15573",
        "colab": {
          "base_uri": "https://localhost:8080/"
        }
      },
      "source": [
        "optimizer = RMSprop()\n",
        "objective = 'binary_crossentropy'\n",
        "\n",
        "model_v3 = Sequential()\n",
        "#\n",
        "model_v3.add(Conv2D(32, kernel_size=(3, 3),\n",
        "                 activation='relu',\n",
        "                 input_shape=(224, 224, 3)))\n",
        "model_v3.add(Conv2D(64, (3, 3), activation='relu'))\n",
        "model_v3.add(MaxPool2D(pool_size=(2, 2)))\n",
        "model_v3.add(Dropout(0.25))\n",
        "#\n",
        "model_v3.add(Conv2D(64, (3, 3), activation='relu'))\n",
        "model_v3.add(MaxPool2D(pool_size=(2, 2)))\n",
        "model_v3.add(Dropout(0.25))\n",
        "#\n",
        "model_v3.add(Flatten())\n",
        "model_v3.add(Dense(128, activation='relu'))\n",
        "model_v3.add(Dropout(0.5))\n",
        "#\n",
        "model_v3.add(Dense(1, activation='sigmoid'))\n",
        "\n",
        "model_v3.summary()\n",
        "\n",
        "# compile model\n",
        "model_v3.compile(loss=objective, optimizer=optimizer, metrics=['accuracy'])\n",
        "# fit on data for 30 epochs\n",
        "model_v3.fit(train, epochs=30, validation_data=val)"
      ],
      "execution_count": null,
      "outputs": [
        {
          "output_type": "stream",
          "text": [
            "Model: \"sequential_2\"\n",
            "_________________________________________________________________\n",
            "Layer (type)                 Output Shape              Param #   \n",
            "=================================================================\n",
            "conv2d_6 (Conv2D)            (None, 222, 222, 32)      896       \n",
            "_________________________________________________________________\n",
            "conv2d_7 (Conv2D)            (None, 220, 220, 64)      18496     \n",
            "_________________________________________________________________\n",
            "max_pooling2d_6 (MaxPooling2 (None, 110, 110, 64)      0         \n",
            "_________________________________________________________________\n",
            "dropout_8 (Dropout)          (None, 110, 110, 64)      0         \n",
            "_________________________________________________________________\n",
            "conv2d_8 (Conv2D)            (None, 108, 108, 64)      36928     \n",
            "_________________________________________________________________\n",
            "max_pooling2d_7 (MaxPooling2 (None, 54, 54, 64)        0         \n",
            "_________________________________________________________________\n",
            "dropout_9 (Dropout)          (None, 54, 54, 64)        0         \n",
            "_________________________________________________________________\n",
            "flatten_2 (Flatten)          (None, 186624)            0         \n",
            "_________________________________________________________________\n",
            "dense_6 (Dense)              (None, 128)               23888000  \n",
            "_________________________________________________________________\n",
            "dropout_10 (Dropout)         (None, 128)               0         \n",
            "_________________________________________________________________\n",
            "dense_7 (Dense)              (None, 1)                 129       \n",
            "=================================================================\n",
            "Total params: 23,944,449\n",
            "Trainable params: 23,944,449\n",
            "Non-trainable params: 0\n",
            "_________________________________________________________________\n",
            "Epoch 1/30\n",
            " 2/13 [===>..........................] - ETA: 0s - loss: 1434.0864 - accuracy: 0.4062WARNING:tensorflow:Callbacks method `on_train_batch_end` is slow compared to the batch time (batch time: 0.0250s vs `on_train_batch_end` time: 0.0399s). Check your callbacks.\n",
            "13/13 [==============================] - 2s 142ms/step - loss: 269.1324 - accuracy: 0.4854 - val_loss: 0.6922 - val_accuracy: 0.4806\n",
            "Epoch 2/30\n",
            "13/13 [==============================] - 1s 101ms/step - loss: 0.6828 - accuracy: 0.5777 - val_loss: 0.6845 - val_accuracy: 0.5388\n",
            "Epoch 3/30\n",
            "13/13 [==============================] - 1s 99ms/step - loss: 0.6278 - accuracy: 0.6942 - val_loss: 0.6712 - val_accuracy: 0.5534\n",
            "Epoch 4/30\n",
            "13/13 [==============================] - 1s 101ms/step - loss: 0.5278 - accuracy: 0.7670 - val_loss: 0.7027 - val_accuracy: 0.6505\n",
            "Epoch 5/30\n",
            "13/13 [==============================] - 1s 100ms/step - loss: 0.3822 - accuracy: 0.8155 - val_loss: 0.6562 - val_accuracy: 0.6456\n",
            "Epoch 6/30\n",
            "13/13 [==============================] - 1s 101ms/step - loss: 16.5537 - accuracy: 0.5874 - val_loss: 0.7280 - val_accuracy: 0.6262\n",
            "Epoch 7/30\n",
            "13/13 [==============================] - 1s 100ms/step - loss: 0.3379 - accuracy: 0.8544 - val_loss: 0.7697 - val_accuracy: 0.6408\n",
            "Epoch 8/30\n",
            "13/13 [==============================] - 1s 100ms/step - loss: 0.2561 - accuracy: 0.9223 - val_loss: 0.8423 - val_accuracy: 0.6748\n",
            "Epoch 9/30\n",
            "13/13 [==============================] - 1s 100ms/step - loss: 4.3269 - accuracy: 0.7961 - val_loss: 0.7523 - val_accuracy: 0.6893\n",
            "Epoch 10/30\n",
            "13/13 [==============================] - 1s 101ms/step - loss: 0.2611 - accuracy: 0.9126 - val_loss: 0.9337 - val_accuracy: 0.6796\n",
            "Epoch 11/30\n",
            "13/13 [==============================] - 1s 101ms/step - loss: 2.9274 - accuracy: 0.8738 - val_loss: 1.1687 - val_accuracy: 0.6796\n",
            "Epoch 12/30\n",
            "13/13 [==============================] - 1s 102ms/step - loss: 1.4276 - accuracy: 0.8883 - val_loss: 1.3451 - val_accuracy: 0.6505\n",
            "Epoch 13/30\n",
            "13/13 [==============================] - 1s 103ms/step - loss: 0.0939 - accuracy: 0.9709 - val_loss: 1.5749 - val_accuracy: 0.6553\n",
            "Epoch 14/30\n",
            "13/13 [==============================] - 1s 102ms/step - loss: 18.8837 - accuracy: 0.8010 - val_loss: 19.7663 - val_accuracy: 0.5000\n",
            "Epoch 15/30\n",
            "13/13 [==============================] - 1s 104ms/step - loss: 3.3877 - accuracy: 0.8641 - val_loss: 2.6550 - val_accuracy: 0.6942\n",
            "Epoch 16/30\n",
            "13/13 [==============================] - 1s 104ms/step - loss: 0.0387 - accuracy: 0.9903 - val_loss: 2.7925 - val_accuracy: 0.6942\n",
            "Epoch 17/30\n",
            "13/13 [==============================] - 1s 102ms/step - loss: 0.0882 - accuracy: 0.9660 - val_loss: 3.7238 - val_accuracy: 0.7136\n",
            "Epoch 18/30\n",
            "13/13 [==============================] - 1s 100ms/step - loss: 0.0786 - accuracy: 0.9709 - val_loss: 2.8858 - val_accuracy: 0.7087\n",
            "Epoch 19/30\n",
            "13/13 [==============================] - 1s 102ms/step - loss: 0.0292 - accuracy: 0.9854 - val_loss: 2.8482 - val_accuracy: 0.6990\n",
            "Epoch 20/30\n",
            "13/13 [==============================] - 1s 102ms/step - loss: 40.5299 - accuracy: 0.8738 - val_loss: 42.7906 - val_accuracy: 0.5049\n",
            "Epoch 21/30\n",
            "13/13 [==============================] - 1s 103ms/step - loss: 9.7880 - accuracy: 0.8301 - val_loss: 2.0169 - val_accuracy: 0.6942\n",
            "Epoch 22/30\n",
            "13/13 [==============================] - 1s 103ms/step - loss: 0.0701 - accuracy: 0.9709 - val_loss: 2.4933 - val_accuracy: 0.6845\n",
            "Epoch 23/30\n",
            "13/13 [==============================] - 1s 101ms/step - loss: 0.5306 - accuracy: 0.9175 - val_loss: 3.6345 - val_accuracy: 0.6845\n",
            "Epoch 24/30\n",
            "13/13 [==============================] - 1s 101ms/step - loss: 0.0289 - accuracy: 0.9854 - val_loss: 3.7755 - val_accuracy: 0.6893\n",
            "Epoch 25/30\n",
            "13/13 [==============================] - 1s 100ms/step - loss: 0.0083 - accuracy: 1.0000 - val_loss: 4.2062 - val_accuracy: 0.6748\n",
            "Epoch 26/30\n",
            "13/13 [==============================] - 1s 100ms/step - loss: 0.0234 - accuracy: 0.9951 - val_loss: 6.2263 - val_accuracy: 0.7184\n",
            "Epoch 27/30\n",
            "13/13 [==============================] - 1s 102ms/step - loss: 0.0419 - accuracy: 0.9951 - val_loss: 3.7653 - val_accuracy: 0.6942\n",
            "Epoch 28/30\n",
            "13/13 [==============================] - 1s 100ms/step - loss: 2.7732 - accuracy: 0.9320 - val_loss: 15.9571 - val_accuracy: 0.7087\n",
            "Epoch 29/30\n",
            "13/13 [==============================] - 1s 99ms/step - loss: 1.3341 - accuracy: 0.9369 - val_loss: 7.8894 - val_accuracy: 0.6748\n",
            "Epoch 30/30\n",
            "13/13 [==============================] - 1s 101ms/step - loss: 0.0689 - accuracy: 0.9806 - val_loss: 6.8185 - val_accuracy: 0.6699\n"
          ],
          "name": "stdout"
        },
        {
          "output_type": "execute_result",
          "data": {
            "text/plain": [
              "<tensorflow.python.keras.callbacks.History at 0x7f65ce0cc390>"
            ]
          },
          "metadata": {
            "tags": []
          },
          "execution_count": 6
        }
      ]
    },
    {
      "cell_type": "markdown",
      "metadata": {
        "id": "ztA431Auzrvn"
      },
      "source": [
        " **Network V4**\n",
        "\n"
      ]
    },
    {
      "cell_type": "markdown",
      "metadata": {
        "id": "Zq7E0OkWq2tE"
      },
      "source": [
        "# VGG learning"
      ]
    },
    {
      "cell_type": "code",
      "metadata": {
        "id": "OBqS89oznVmR",
        "outputId": "87a8bab9-2b9b-4dfe-dd8d-f7026a58dca8",
        "colab": {
          "base_uri": "https://localhost:8080/"
        }
      },
      "source": [
        "optimizer = 'adam'\n",
        "objective = 'binary_crossentropy'\n",
        "\n",
        "vgg=VGG16(include_top=False, pooling='avg', weights='imagenet',input_shape=(178, 218, 3))\n",
        "\n",
        "# Freeze the layers except the last 5\n",
        "for layer in vgg.layers[:-5]:\n",
        " layer.trainable = False\n",
        "\n",
        "# Create the model\n",
        "model = Sequential()\n",
        "# Add the VGG16 convolutional base model\n",
        "model.add(vgg)\n",
        " \n",
        "# Add new layers\n",
        "model.add(Dense(128, activation='relu'))\n",
        "model.add(BatchNormalization())\n",
        "model.add(Dense(1, activation='sigmoid'))\n",
        "\n",
        "model.compile(optimizer=optimizer, loss=objective, metrics=['accuracy'])\n",
        "model.fit(train, epochs=30, batch_size=128, validation_data=val)"
      ],
      "execution_count": null,
      "outputs": [
        {
          "output_type": "stream",
          "text": [
            "Epoch 1/30\n",
            "13/13 [==============================] - 3s 220ms/step - loss: 0.4777 - accuracy: 0.7961 - val_loss: 11.9753 - val_accuracy: 0.5000\n",
            "Epoch 2/30\n",
            "13/13 [==============================] - 2s 141ms/step - loss: 0.3193 - accuracy: 0.8592 - val_loss: 0.5695 - val_accuracy: 0.8010\n",
            "Epoch 3/30\n",
            "13/13 [==============================] - 2s 141ms/step - loss: 0.1860 - accuracy: 0.9320 - val_loss: 6.3375 - val_accuracy: 0.5000\n",
            "Epoch 4/30\n",
            "13/13 [==============================] - 2s 142ms/step - loss: 0.1019 - accuracy: 0.9757 - val_loss: 0.8412 - val_accuracy: 0.9029\n",
            "Epoch 5/30\n",
            "13/13 [==============================] - 2s 142ms/step - loss: 0.0794 - accuracy: 0.9806 - val_loss: 0.2610 - val_accuracy: 0.9126\n",
            "Epoch 6/30\n",
            "13/13 [==============================] - 2s 143ms/step - loss: 0.0415 - accuracy: 0.9951 - val_loss: 0.9927 - val_accuracy: 0.7573\n",
            "Epoch 7/30\n",
            "13/13 [==============================] - 2s 143ms/step - loss: 0.0297 - accuracy: 1.0000 - val_loss: 0.3671 - val_accuracy: 0.8981\n",
            "Epoch 8/30\n",
            "13/13 [==============================] - 2s 142ms/step - loss: 0.0205 - accuracy: 1.0000 - val_loss: 0.2912 - val_accuracy: 0.9126\n",
            "Epoch 9/30\n",
            "13/13 [==============================] - 2s 142ms/step - loss: 0.0156 - accuracy: 1.0000 - val_loss: 0.9887 - val_accuracy: 0.7524\n",
            "Epoch 10/30\n",
            "13/13 [==============================] - 2s 142ms/step - loss: 0.0096 - accuracy: 1.0000 - val_loss: 0.2384 - val_accuracy: 0.9078\n",
            "Epoch 11/30\n",
            "13/13 [==============================] - 2s 143ms/step - loss: 0.0110 - accuracy: 1.0000 - val_loss: 0.2418 - val_accuracy: 0.9078\n",
            "Epoch 12/30\n",
            "13/13 [==============================] - 2s 143ms/step - loss: 0.0058 - accuracy: 1.0000 - val_loss: 0.2615 - val_accuracy: 0.8981\n",
            "Epoch 13/30\n",
            "13/13 [==============================] - 2s 143ms/step - loss: 0.0095 - accuracy: 1.0000 - val_loss: 0.5811 - val_accuracy: 0.8495\n",
            "Epoch 14/30\n",
            "13/13 [==============================] - 2s 142ms/step - loss: 0.0134 - accuracy: 1.0000 - val_loss: 0.3363 - val_accuracy: 0.9126\n",
            "Epoch 15/30\n",
            "13/13 [==============================] - 2s 142ms/step - loss: 0.0127 - accuracy: 0.9951 - val_loss: 0.6113 - val_accuracy: 0.8641\n",
            "Epoch 16/30\n",
            "13/13 [==============================] - 2s 142ms/step - loss: 0.0769 - accuracy: 0.9660 - val_loss: 5.2942 - val_accuracy: 0.5000\n",
            "Epoch 17/30\n",
            "13/13 [==============================] - 2s 143ms/step - loss: 0.0577 - accuracy: 0.9854 - val_loss: 5.8859 - val_accuracy: 0.5243\n",
            "Epoch 18/30\n",
            "13/13 [==============================] - 2s 143ms/step - loss: 0.0530 - accuracy: 0.9903 - val_loss: 0.2953 - val_accuracy: 0.8883\n",
            "Epoch 19/30\n",
            "13/13 [==============================] - 2s 144ms/step - loss: 0.0365 - accuracy: 0.9951 - val_loss: 1.4161 - val_accuracy: 0.7039\n",
            "Epoch 20/30\n",
            "13/13 [==============================] - 2s 143ms/step - loss: 0.0276 - accuracy: 0.9903 - val_loss: 0.3074 - val_accuracy: 0.9078\n",
            "Epoch 21/30\n",
            "13/13 [==============================] - 2s 143ms/step - loss: 0.0159 - accuracy: 1.0000 - val_loss: 0.9866 - val_accuracy: 0.7816\n",
            "Epoch 22/30\n",
            "13/13 [==============================] - 2s 144ms/step - loss: 0.0094 - accuracy: 1.0000 - val_loss: 0.7259 - val_accuracy: 0.7961\n",
            "Epoch 23/30\n",
            "13/13 [==============================] - 2s 143ms/step - loss: 0.0083 - accuracy: 1.0000 - val_loss: 0.4948 - val_accuracy: 0.8641\n",
            "Epoch 24/30\n",
            "13/13 [==============================] - 2s 143ms/step - loss: 0.0078 - accuracy: 1.0000 - val_loss: 0.3013 - val_accuracy: 0.9126\n",
            "Epoch 25/30\n",
            "13/13 [==============================] - 2s 144ms/step - loss: 0.0133 - accuracy: 1.0000 - val_loss: 0.3147 - val_accuracy: 0.9126\n",
            "Epoch 26/30\n",
            "13/13 [==============================] - 2s 145ms/step - loss: 0.0055 - accuracy: 1.0000 - val_loss: 0.2656 - val_accuracy: 0.9029\n",
            "Epoch 27/30\n",
            "13/13 [==============================] - 2s 144ms/step - loss: 0.0074 - accuracy: 1.0000 - val_loss: 0.2640 - val_accuracy: 0.9029\n",
            "Epoch 28/30\n",
            "13/13 [==============================] - 2s 143ms/step - loss: 0.0029 - accuracy: 1.0000 - val_loss: 0.2541 - val_accuracy: 0.8932\n",
            "Epoch 29/30\n",
            "13/13 [==============================] - 2s 142ms/step - loss: 0.0045 - accuracy: 1.0000 - val_loss: 0.2643 - val_accuracy: 0.9078\n",
            "Epoch 30/30\n",
            "13/13 [==============================] - 2s 142ms/step - loss: 0.0026 - accuracy: 1.0000 - val_loss: 0.2652 - val_accuracy: 0.9078\n"
          ],
          "name": "stdout"
        },
        {
          "output_type": "execute_result",
          "data": {
            "text/plain": [
              "<tensorflow.python.keras.callbacks.History at 0x7f65c65847b8>"
            ]
          },
          "metadata": {
            "tags": []
          },
          "execution_count": 7
        }
      ]
    }
  ]
}